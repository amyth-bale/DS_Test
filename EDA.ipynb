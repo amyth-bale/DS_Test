{
 "cells": [
  {
   "cell_type": "code",
   "execution_count": 1,
   "id": "01e45738-61eb-4c52-ba6b-b17792926b45",
   "metadata": {},
   "outputs": [],
   "source": [
    "#importing libraries\n",
    "import pandas as pd\n",
    "import matplotlib.pyplot as plt\n",
    "import numpy as np\n",
    "import seaborn as sns"
   ]
  },
  {
   "cell_type": "code",
   "execution_count": 2,
   "id": "404c85df-b103-4afb-bc4e-e41be33a2cea",
   "metadata": {},
   "outputs": [
    {
     "data": {
      "text/html": [
       "<div>\n",
       "<style scoped>\n",
       "    .dataframe tbody tr th:only-of-type {\n",
       "        vertical-align: middle;\n",
       "    }\n",
       "\n",
       "    .dataframe tbody tr th {\n",
       "        vertical-align: top;\n",
       "    }\n",
       "\n",
       "    .dataframe thead th {\n",
       "        text-align: right;\n",
       "    }\n",
       "</style>\n",
       "<table border=\"1\" class=\"dataframe\">\n",
       "  <thead>\n",
       "    <tr style=\"text-align: right;\">\n",
       "      <th></th>\n",
       "      <th>id</th>\n",
       "      <th>gender</th>\n",
       "      <th>age</th>\n",
       "      <th>hypertension</th>\n",
       "      <th>heart_disease</th>\n",
       "      <th>ever_married</th>\n",
       "      <th>work_type</th>\n",
       "      <th>Residence_type</th>\n",
       "      <th>avg_glucose_level</th>\n",
       "      <th>bmi</th>\n",
       "      <th>smoking_status</th>\n",
       "      <th>stroke</th>\n",
       "    </tr>\n",
       "  </thead>\n",
       "  <tbody>\n",
       "    <tr>\n",
       "      <th>0</th>\n",
       "      <td>9046</td>\n",
       "      <td>Male</td>\n",
       "      <td>67.0</td>\n",
       "      <td>0</td>\n",
       "      <td>1</td>\n",
       "      <td>Yes</td>\n",
       "      <td>Private</td>\n",
       "      <td>Urban</td>\n",
       "      <td>228.69</td>\n",
       "      <td>36.6</td>\n",
       "      <td>formerly smoked</td>\n",
       "      <td>1</td>\n",
       "    </tr>\n",
       "    <tr>\n",
       "      <th>1</th>\n",
       "      <td>51676</td>\n",
       "      <td>Female</td>\n",
       "      <td>61.0</td>\n",
       "      <td>0</td>\n",
       "      <td>0</td>\n",
       "      <td>Yes</td>\n",
       "      <td>Self-employed</td>\n",
       "      <td>Rural</td>\n",
       "      <td>202.21</td>\n",
       "      <td>NaN</td>\n",
       "      <td>never smoked</td>\n",
       "      <td>1</td>\n",
       "    </tr>\n",
       "    <tr>\n",
       "      <th>2</th>\n",
       "      <td>31112</td>\n",
       "      <td>Male</td>\n",
       "      <td>80.0</td>\n",
       "      <td>0</td>\n",
       "      <td>1</td>\n",
       "      <td>Yes</td>\n",
       "      <td>Private</td>\n",
       "      <td>Rural</td>\n",
       "      <td>105.92</td>\n",
       "      <td>32.5</td>\n",
       "      <td>never smoked</td>\n",
       "      <td>1</td>\n",
       "    </tr>\n",
       "    <tr>\n",
       "      <th>3</th>\n",
       "      <td>60182</td>\n",
       "      <td>Female</td>\n",
       "      <td>49.0</td>\n",
       "      <td>0</td>\n",
       "      <td>0</td>\n",
       "      <td>Yes</td>\n",
       "      <td>Private</td>\n",
       "      <td>Urban</td>\n",
       "      <td>171.23</td>\n",
       "      <td>34.4</td>\n",
       "      <td>smokes</td>\n",
       "      <td>1</td>\n",
       "    </tr>\n",
       "    <tr>\n",
       "      <th>4</th>\n",
       "      <td>1665</td>\n",
       "      <td>Female</td>\n",
       "      <td>79.0</td>\n",
       "      <td>1</td>\n",
       "      <td>0</td>\n",
       "      <td>Yes</td>\n",
       "      <td>Self-employed</td>\n",
       "      <td>Rural</td>\n",
       "      <td>174.12</td>\n",
       "      <td>24.0</td>\n",
       "      <td>never smoked</td>\n",
       "      <td>1</td>\n",
       "    </tr>\n",
       "  </tbody>\n",
       "</table>\n",
       "</div>"
      ],
      "text/plain": [
       "      id  gender   age  hypertension  heart_disease ever_married  \\\n",
       "0   9046    Male  67.0             0              1          Yes   \n",
       "1  51676  Female  61.0             0              0          Yes   \n",
       "2  31112    Male  80.0             0              1          Yes   \n",
       "3  60182  Female  49.0             0              0          Yes   \n",
       "4   1665  Female  79.0             1              0          Yes   \n",
       "\n",
       "       work_type Residence_type  avg_glucose_level   bmi   smoking_status  \\\n",
       "0        Private          Urban             228.69  36.6  formerly smoked   \n",
       "1  Self-employed          Rural             202.21   NaN     never smoked   \n",
       "2        Private          Rural             105.92  32.5     never smoked   \n",
       "3        Private          Urban             171.23  34.4           smokes   \n",
       "4  Self-employed          Rural             174.12  24.0     never smoked   \n",
       "\n",
       "   stroke  \n",
       "0       1  \n",
       "1       1  \n",
       "2       1  \n",
       "3       1  \n",
       "4       1  "
      ]
     },
     "execution_count": 2,
     "metadata": {},
     "output_type": "execute_result"
    }
   ],
   "source": [
    "health_df = pd.read_csv('./healthcare-dataset-stroke-data.csv')\n",
    "health_df.head()"
   ]
  },
  {
   "cell_type": "code",
   "execution_count": 3,
   "id": "6a646bad-a6f1-4566-83f4-955bf8c2f780",
   "metadata": {},
   "outputs": [],
   "source": [
    "health_df.columns\n",
    "new_df = health_df.copy() # To generate new features"
   ]
  },
  {
   "cell_type": "markdown",
   "id": "4f901581-32fb-4337-8eff-0641978d7ba2",
   "metadata": {},
   "source": [
    "__EDA : Total Records and Null Counts__"
   ]
  },
  {
   "cell_type": "code",
   "execution_count": 4,
   "id": "35bc61e6-9415-4a27-a43a-735f230aa0e8",
   "metadata": {},
   "outputs": [
    {
     "name": "stdout",
     "output_type": "stream",
     "text": [
      "Total Count:  5110\n",
      "Stroke Count:  249\n",
      "No Stroke Count:  4861\n"
     ]
    }
   ],
   "source": [
    "print(\"Total Count: \", len(health_df))\n",
    "print(\"Stroke Count: \", len(health_df[health_df['stroke']==1]))\n",
    "print(\"No Stroke Count: \", len(health_df[health_df['stroke']==0]))"
   ]
  },
  {
   "cell_type": "code",
   "execution_count": 5,
   "id": "4fad3310-b67b-43f4-baaf-cec359002fbd",
   "metadata": {},
   "outputs": [
    {
     "name": "stdout",
     "output_type": "stream",
     "text": [
      "Null count values across all columns:\n",
      "\n",
      "id                     0\n",
      "gender                 0\n",
      "age                    0\n",
      "hypertension           0\n",
      "heart_disease          0\n",
      "ever_married           0\n",
      "work_type              0\n",
      "Residence_type         0\n",
      "avg_glucose_level      0\n",
      "bmi                  201\n",
      "smoking_status         0\n",
      "stroke                 0\n",
      "dtype: int64\n"
     ]
    }
   ],
   "source": [
    "print(\"Null count values across all columns:\\n\")\n",
    "print(health_df.isna().sum())"
   ]
  },
  {
   "cell_type": "markdown",
   "id": "e87d0821-e183-498e-afe4-2e23f21e8b19",
   "metadata": {},
   "source": [
    "__Mean__, __Median__, __Std-dev__ for each numerical column"
   ]
  },
  {
   "cell_type": "code",
   "execution_count": 6,
   "id": "aaa01729-e1ed-455e-be5d-179474e0936f",
   "metadata": {},
   "outputs": [
    {
     "name": "stdout",
     "output_type": "stream",
     "text": [
      "\n",
      " age\n",
      "Mean =  43.226614481409\n",
      "Median =  22.61264672311349\n",
      "Standard Deviation =  45.0\n",
      "\n",
      " avg_glucose_level\n",
      "Mean =  106.1476771037182\n",
      "Median =  45.28356015058198\n",
      "Standard Deviation =  91.88499999999999\n",
      "\n",
      " bmi\n",
      "Mean =  28.893236911794666\n",
      "Median =  7.854066729680164\n",
      "Standard Deviation =  28.1\n"
     ]
    }
   ],
   "source": [
    "numerical_cols = ['age','avg_glucose_level','bmi']\n",
    "for col in numerical_cols:\n",
    "    print(\"\\n\",col)\n",
    "    print(\"Mean = \", health_df[col].mean())\n",
    "    print(\"Median = \", health_df[col].std())\n",
    "    print(\"Standard Deviation = \", health_df[col].median())"
   ]
  },
  {
   "cell_type": "markdown",
   "id": "34d59990-0928-4553-a508-c5277ab43a9d",
   "metadata": {},
   "source": [
    "__Charts for Analysis__\n",
    "\n",
    "_Understanding the percentage of Strokes Distribution using Pie chart_"
   ]
  },
  {
   "cell_type": "code",
   "execution_count": 7,
   "id": "c7121d11-556a-4057-87be-5b06ebab4e71",
   "metadata": {},
   "outputs": [
    {
     "data": {
      "image/png": "[encoded data removed]",
      "text/plain": [
       "<Figure size 640x480 with 1 Axes>"
      ]
     },
     "metadata": {},
     "output_type": "display_data"
    }
   ],
   "source": [
    "strokes_data = [len(health_df[health_df['stroke']==1]),len(health_df[health_df['stroke']==0])]\n",
    "palette_color = sns.color_palette('bright')\n",
    "plt.pie(strokes_data, labels=['Stroke','No Stroke'], colors=palette_color,autopct='%.0f%%')\n",
    "plt.show()"
   ]
  },
  {
   "cell_type": "markdown",
   "id": "d0c76084-0b74-48c7-b604-91a8c2a3d8dc",
   "metadata": {},
   "source": [
    "_Clear imbalance in the dataset as out of  5110 people, __4861 didn’t get a stroke and only 249 did__. This will create a biased model so we need to create __sample___"
   ]
  },
  {
   "cell_type": "markdown",
   "id": "bb51d73d-4b06-49e1-aa9c-e2efbbcf82e1",
   "metadata": {},
   "source": [
    "_Using Bar Graph for some of other Categorical columns_"
   ]
  },
  {
   "cell_type": "code",
   "execution_count": 8,
   "id": "cbfa2bb2-3ebd-425c-856f-47ad9ee4632c",
   "metadata": {},
   "outputs": [
    {
     "data": {
      "image/png": "[encoded data removed]",
      "text/plain": [
       "<Figure size 1200x800 with 4 Axes>"
      ]
     },
     "metadata": {},
     "output_type": "display_data"
    }
   ],
   "source": [
    "categorical_cols = ['gender', 'hypertension', 'work_type', 'smoking_status']\n",
    "\n",
    "fig, axs = plt.subplots(nrows=2, ncols=2, figsize=(12, 8))\n",
    "\n",
    "for var, subplot in zip(categorical_cols, axs.flatten()):\n",
    "    sns.countplot(x=var, data=health_df, ax=subplot)\n",
    "\n",
    "plt.show()\n"
   ]
  },
  {
   "cell_type": "code",
   "execution_count": 9,
   "id": "2c4bfa5b-e100-4c79-ba57-cdafcd90d324",
   "metadata": {},
   "outputs": [
    {
     "data": {
      "text/plain": [
       "1"
      ]
     },
     "execution_count": 9,
     "metadata": {},
     "output_type": "execute_result"
    }
   ],
   "source": [
    "len(health_df[health_df['gender']=='Other'])"
   ]
  },
  {
   "cell_type": "markdown",
   "id": "594fd977-e772-4521-bd61-da3fce79841e",
   "metadata": {},
   "source": [
    "__GENDER__ :Distribution among Male and Female is almost similar with 1 as Other.  \n",
    "__HYPERTENSION__ : Clear imbalance in if Hypertension present or not.  \n",
    "__WORK TYPE__ : Most people work in private sector. Self-employed, Govt and Children are almost equally distributed with very handful being unemployed.  \n",
    "__SMOKING STATUS__ : Most people have never smoked. The status of many is not known. And formerly smoked and currently smoked are almost similar."
   ]
  },
  {
   "cell_type": "markdown",
   "id": "f44f823d-02cf-49e7-becb-bf3a57951bde",
   "metadata": {},
   "source": [
    "__AGE Column using Histogram__  \n",
    "_Sturge’s rule_ "
   ]
  },
  {
   "cell_type": "code",
   "execution_count": 10,
   "id": "a77fd261-ef4c-4a08-8525-41af6e8269d0",
   "metadata": {},
   "outputs": [
    {
     "data": {
      "text/plain": [
       "14"
      ]
     },
     "execution_count": 10,
     "metadata": {},
     "output_type": "execute_result"
    }
   ],
   "source": [
    "bin_count = int(np.ceil(np.log2(len(health_df))) + 1)\n",
    "bin_count"
   ]
  },
  {
   "cell_type": "code",
   "execution_count": 11,
   "id": "8da58ba1-0ee3-4af3-90b8-b003d4bff8cf",
   "metadata": {},
   "outputs": [
    {
     "data": {
      "image/png": "[encoded data removed]",
      "text/plain": [
       "<Figure size 640x480 with 1 Axes>"
      ]
     },
     "metadata": {},
     "output_type": "display_data"
    }
   ],
   "source": [
    "sns.histplot(health_df['age'],bins=bin_count)\n",
    "plt.show()"
   ]
  },
  {
   "cell_type": "markdown",
   "id": "5251122c-38b7-4b99-9132-f07cee26ac20",
   "metadata": {},
   "source": [
    "All age groups are present, majority of people are old i.e within 45-60 years old"
   ]
  },
  {
   "cell_type": "markdown",
   "id": "45ba0982-95f9-4643-a682-0f676696097c",
   "metadata": {},
   "source": [
    "__BMI Column Analysis__"
   ]
  },
  {
   "cell_type": "code",
   "execution_count": 12,
   "id": "a6995225-9bab-486c-91a7-fd26fed58248",
   "metadata": {},
   "outputs": [
    {
     "data": {
      "text/plain": [
       "201"
      ]
     },
     "execution_count": 12,
     "metadata": {},
     "output_type": "execute_result"
    }
   ],
   "source": [
    "health_df['bmi'].isnull().sum()"
   ]
  },
  {
   "cell_type": "code",
   "execution_count": 13,
   "id": "455d7e11-7308-4087-acb0-a4fe665bee72",
   "metadata": {},
   "outputs": [
    {
     "name": "stdout",
     "output_type": "stream",
     "text": [
      "Percentage of Null Values: \n"
     ]
    },
    {
     "data": {
      "text/plain": [
       "3.9334637964774952"
      ]
     },
     "execution_count": 13,
     "metadata": {},
     "output_type": "execute_result"
    }
   ],
   "source": [
    "print(\"Percentage of Null Values: \")\n",
    "health_df['bmi'].isnull().sum()/len(health_df)*100"
   ]
  },
  {
   "cell_type": "code",
   "execution_count": 14,
   "id": "425f27ea-0435-4d4d-818d-d0f59efdead3",
   "metadata": {},
   "outputs": [
    {
     "data": {
      "text/plain": [
       "40"
      ]
     },
     "execution_count": 14,
     "metadata": {},
     "output_type": "execute_result"
    }
   ],
   "source": [
    "health_df[health_df['bmi'].isnull()]['stroke'].sum()"
   ]
  },
  {
   "cell_type": "markdown",
   "id": "21f441a4-42a6-47fa-adaa-555b4ef8e4d6",
   "metadata": {},
   "source": [
    "_Filling missing values with __median___  \n",
    "__Because__ :  The median is less sensitive to outliers compared to the mean and helps preserve the overall distribution of the data"
   ]
  },
  {
   "cell_type": "code",
   "execution_count": 15,
   "id": "aa50e246-efea-4214-8a4a-d50e6d0a9ccb",
   "metadata": {},
   "outputs": [],
   "source": [
    "health_df['bmi'] = health_df['bmi'].fillna(health_df['bmi'].median())"
   ]
  },
  {
   "cell_type": "code",
   "execution_count": 16,
   "id": "a5ffd0e5-322f-49a8-821f-c477c1194cf2",
   "metadata": {},
   "outputs": [
    {
     "name": "stdout",
     "output_type": "stream",
     "text": [
      "Null count values across all columns:\n",
      "\n",
      "id                   0\n",
      "gender               0\n",
      "age                  0\n",
      "hypertension         0\n",
      "heart_disease        0\n",
      "ever_married         0\n",
      "work_type            0\n",
      "Residence_type       0\n",
      "avg_glucose_level    0\n",
      "bmi                  0\n",
      "smoking_status       0\n",
      "stroke               0\n",
      "dtype: int64\n"
     ]
    }
   ],
   "source": [
    "print(\"Null count values across all columns:\\n\")\n",
    "print(health_df.isna().sum())"
   ]
  },
  {
   "cell_type": "markdown",
   "id": "683bf789-201a-450c-8b2e-ccc69bd67bb8",
   "metadata": {},
   "source": [
    "__Removing Outliers__  \n",
    "_Plotting box plots_"
   ]
  },
  {
   "cell_type": "code",
   "execution_count": 17,
   "id": "c2e2799f-0d7d-4b0a-8d95-f0758f0eb5d8",
   "metadata": {},
   "outputs": [
    {
     "data": {
      "image/png": "[encoded data removed]",
      "text/plain": [
       "<Figure size 640x480 with 1 Axes>"
      ]
     },
     "metadata": {},
     "output_type": "display_data"
    }
   ],
   "source": [
    "sns.boxplot(y = health_df['age'])\n",
    "plt.show()"
   ]
  },
  {
   "cell_type": "code",
   "execution_count": 18,
   "id": "eadb6f3d-be56-4a38-96e3-89b0f584bdd5",
   "metadata": {},
   "outputs": [
    {
     "data": {
      "image/png": "[encoded data removed]",
      "text/plain": [
       "<Figure size 640x480 with 1 Axes>"
      ]
     },
     "metadata": {},
     "output_type": "display_data"
    }
   ],
   "source": [
    "sns.boxplot(y = health_df['avg_glucose_level'])\n",
    "plt.show()"
   ]
  },
  {
   "cell_type": "code",
   "execution_count": 19,
   "id": "d8f8a9bb-0997-4fad-aa11-8ad7974693c3",
   "metadata": {},
   "outputs": [
    {
     "data": {
      "image/png": "[encoded data removed]",
      "text/plain": [
       "<Figure size 640x480 with 1 Axes>"
      ]
     },
     "metadata": {},
     "output_type": "display_data"
    }
   ],
   "source": [
    "sns.boxplot(y = health_df['bmi'])\n",
    "plt.show()"
   ]
  },
  {
   "cell_type": "markdown",
   "id": "3255a2d0-9000-43a2-ab62-16482eb8faca",
   "metadata": {},
   "source": [
    "_We see no outliers in age, But there seem to be many in avg_glucose_lvl and bmi_"
   ]
  },
  {
   "cell_type": "markdown",
   "id": "6ae562a2-da74-47b5-8f4b-a2c54a6bd64c",
   "metadata": {},
   "source": [
    "__Inter Quartile Range__"
   ]
  },
  {
   "cell_type": "code",
   "execution_count": 20,
   "id": "9e5e2bd3-7dc8-44ab-b01f-392fd9280c76",
   "metadata": {},
   "outputs": [
    {
     "name": "stdout",
     "output_type": "stream",
     "text": [
      "IQR of avg_glucose_level 36.84\n",
      "UpperBound - Lower Bound avg_glucose_level [169.35000000000002, 21.989999999999995]\n",
      "\n",
      "IQR of bmi 8.999999999999996\n",
      "UpperBound - Lower Bound bmi [46.29999999999999, 10.300000000000006]\n",
      "\n",
      "Outliers in avg_glucose_level 627\n",
      "Outliers in bmi 126\n"
     ]
    }
   ],
   "source": [
    "ub_lb = {}\n",
    "def outliers():\n",
    "    outlier_cols = ['avg_glucose_level','bmi']\n",
    "    for col in outlier_cols:\n",
    "        Q1 = np.percentile(health_df[col], 25, method='midpoint')\n",
    "        Q3 = np.percentile(health_df[col], 75, method='midpoint')\n",
    "        IQR = Q3 - Q1\n",
    "        print(\"IQR of\",col,IQR)\n",
    "\n",
    "        upper=Q3+1.5*IQR\n",
    "        lower=Q1-1.5*IQR\n",
    "        ub_lb[col] = [upper,lower]\n",
    "        print(\"UpperBound - Lower Bound\",col,ub_lb[col])\n",
    "        print()\n",
    "\n",
    "def outliers_count():\n",
    "    outlier_cols = ['avg_glucose_level','bmi']\n",
    "    for col in outlier_cols:\n",
    "        x = ((health_df[col] > ub_lb[col][0] )| (health_df[col] < ub_lb[col][1] )).sum()\n",
    "        print(\"Outliers in\",col,x)\n",
    "\n",
    "outliers()\n",
    "outliers_count()\n",
    "    "
   ]
  },
  {
   "cell_type": "markdown",
   "id": "20a6e817-428f-47b9-8c61-01e38a1d762b",
   "metadata": {},
   "source": [
    "_Removing outliers but setting them to Upper Bound and Lower Bound. Dropping row is not an option as __627__ is a huge number_"
   ]
  },
  {
   "cell_type": "code",
   "execution_count": 21,
   "id": "7e33a85e-2f4e-4b1f-84ed-1a7e049e44a1",
   "metadata": {},
   "outputs": [],
   "source": [
    "abc = health_df\n",
    "def correct_outlier():\n",
    "    outlier_cols = ['avg_glucose_level','bmi']\n",
    "    for col in outlier_cols:\n",
    "        abc[col] = np.where(health_df[col] < ub_lb[col][1], ub_lb[col][1], health_df[col])\n",
    "        abc[col] = np.where(health_df[col] > ub_lb[col][0], ub_lb[col][0], abc[col])\n",
    "\n",
    "correct_outlier()"
   ]
  },
  {
   "cell_type": "code",
   "execution_count": 22,
   "id": "aa08966e-3c9c-4349-9dcd-26bfc19cde9d",
   "metadata": {},
   "outputs": [
    {
     "data": {
      "image/png": "[encoded data removed]",
      "text/plain": [
       "<Figure size 640x480 with 1 Axes>"
      ]
     },
     "metadata": {},
     "output_type": "display_data"
    }
   ],
   "source": [
    "sns.boxplot(y = abc['bmi'])\n",
    "plt.show()"
   ]
  },
  {
   "cell_type": "code",
   "execution_count": 23,
   "id": "36bacae5-75d7-4f2a-9651-d7e081ad18b0",
   "metadata": {},
   "outputs": [
    {
     "data": {
      "image/png": "[encoded data removed]",
      "text/plain": [
       "<Figure size 640x480 with 1 Axes>"
      ]
     },
     "metadata": {},
     "output_type": "display_data"
    }
   ],
   "source": [
    "sns.boxplot(y = abc['avg_glucose_level'])\n",
    "plt.show()"
   ]
  },
  {
   "cell_type": "markdown",
   "id": "f2018cab-4189-40a5-b891-e91a0b76599c",
   "metadata": {},
   "source": [
    "__Perform Scaling__  \n",
    "\n",
    "__MinMaxScaler__ scales the data to a fixed range, typically between 0 and 1. On the other hand, __StandardScaler__ rescales the data to have a mean of 0 and a standard deviation    of 1. This results in a distribution with zero mean and unit variance.  \n",
    "\n",
    "_Feature scaling is not important for algorithms such as random forest or decision trees which are scaling invariant. The scale of the value of the feature does not impact the model performance of models trained using these algorithms_"
   ]
  },
  {
   "cell_type": "code",
   "execution_count": 26,
   "id": "ee8a0896-0555-4336-a303-80ec88a2b25a",
   "metadata": {},
   "outputs": [
    {
     "data": {
      "text/html": [
       "<div>\n",
       "<style scoped>\n",
       "    .dataframe tbody tr th:only-of-type {\n",
       "        vertical-align: middle;\n",
       "    }\n",
       "\n",
       "    .dataframe tbody tr th {\n",
       "        vertical-align: top;\n",
       "    }\n",
       "\n",
       "    .dataframe thead th {\n",
       "        text-align: right;\n",
       "    }\n",
       "</style>\n",
       "<table border=\"1\" class=\"dataframe\">\n",
       "  <thead>\n",
       "    <tr style=\"text-align: right;\">\n",
       "      <th></th>\n",
       "      <th>id</th>\n",
       "      <th>gender</th>\n",
       "      <th>age</th>\n",
       "      <th>hypertension</th>\n",
       "      <th>heart_disease</th>\n",
       "      <th>ever_married</th>\n",
       "      <th>work_type</th>\n",
       "      <th>Residence_type</th>\n",
       "      <th>avg_glucose_level</th>\n",
       "      <th>bmi</th>\n",
       "      <th>smoking_status</th>\n",
       "      <th>stroke</th>\n",
       "    </tr>\n",
       "  </thead>\n",
       "  <tbody>\n",
       "    <tr>\n",
       "      <th>0</th>\n",
       "      <td>9046</td>\n",
       "      <td>Male</td>\n",
       "      <td>1.051434</td>\n",
       "      <td>0</td>\n",
       "      <td>1</td>\n",
       "      <td>Yes</td>\n",
       "      <td>Private</td>\n",
       "      <td>Urban</td>\n",
       "      <td>2.058282</td>\n",
       "      <td>1.110872</td>\n",
       "      <td>formerly smoked</td>\n",
       "      <td>1</td>\n",
       "    </tr>\n",
       "    <tr>\n",
       "      <th>1</th>\n",
       "      <td>51676</td>\n",
       "      <td>Female</td>\n",
       "      <td>0.786070</td>\n",
       "      <td>0</td>\n",
       "      <td>0</td>\n",
       "      <td>Yes</td>\n",
       "      <td>Self-employed</td>\n",
       "      <td>Rural</td>\n",
       "      <td>2.058282</td>\n",
       "      <td>-0.082921</td>\n",
       "      <td>never smoked</td>\n",
       "      <td>1</td>\n",
       "    </tr>\n",
       "    <tr>\n",
       "      <th>2</th>\n",
       "      <td>31112</td>\n",
       "      <td>Male</td>\n",
       "      <td>1.626390</td>\n",
       "      <td>0</td>\n",
       "      <td>1</td>\n",
       "      <td>Yes</td>\n",
       "      <td>Private</td>\n",
       "      <td>Rural</td>\n",
       "      <td>0.148292</td>\n",
       "      <td>0.535043</td>\n",
       "      <td>never smoked</td>\n",
       "      <td>1</td>\n",
       "    </tr>\n",
       "    <tr>\n",
       "      <th>3</th>\n",
       "      <td>60182</td>\n",
       "      <td>Female</td>\n",
       "      <td>0.255342</td>\n",
       "      <td>0</td>\n",
       "      <td>0</td>\n",
       "      <td>Yes</td>\n",
       "      <td>Private</td>\n",
       "      <td>Urban</td>\n",
       "      <td>2.058282</td>\n",
       "      <td>0.801890</td>\n",
       "      <td>smokes</td>\n",
       "      <td>1</td>\n",
       "    </tr>\n",
       "    <tr>\n",
       "      <th>4</th>\n",
       "      <td>1665</td>\n",
       "      <td>Female</td>\n",
       "      <td>1.582163</td>\n",
       "      <td>1</td>\n",
       "      <td>0</td>\n",
       "      <td>Yes</td>\n",
       "      <td>Self-employed</td>\n",
       "      <td>Rural</td>\n",
       "      <td>2.058282</td>\n",
       "      <td>-0.658751</td>\n",
       "      <td>never smoked</td>\n",
       "      <td>1</td>\n",
       "    </tr>\n",
       "  </tbody>\n",
       "</table>\n",
       "</div>"
      ],
      "text/plain": [
       "      id  gender       age  hypertension  heart_disease ever_married  \\\n",
       "0   9046    Male  1.051434             0              1          Yes   \n",
       "1  51676  Female  0.786070             0              0          Yes   \n",
       "2  31112    Male  1.626390             0              1          Yes   \n",
       "3  60182  Female  0.255342             0              0          Yes   \n",
       "4   1665  Female  1.582163             1              0          Yes   \n",
       "\n",
       "       work_type Residence_type  avg_glucose_level       bmi   smoking_status  \\\n",
       "0        Private          Urban           2.058282  1.110872  formerly smoked   \n",
       "1  Self-employed          Rural           2.058282 -0.082921     never smoked   \n",
       "2        Private          Rural           0.148292  0.535043     never smoked   \n",
       "3        Private          Urban           2.058282  0.801890           smokes   \n",
       "4  Self-employed          Rural           2.058282 -0.658751     never smoked   \n",
       "\n",
       "   stroke  \n",
       "0       1  \n",
       "1       1  \n",
       "2       1  \n",
       "3       1  \n",
       "4       1  "
      ]
     },
     "execution_count": 26,
     "metadata": {},
     "output_type": "execute_result"
    }
   ],
   "source": [
    "from sklearn.preprocessing import StandardScaler\n",
    "scaler = StandardScaler()\n",
    "\n",
    "num_cols = abc[['age','avg_glucose_level','bmi']]\n",
    "\n",
    "X = pd.DataFrame(scaler.fit_transform(num_cols), columns = num_cols.columns)\n",
    "abc['age'] = X['age']\n",
    "abc['avg_glucose_level'] = X['avg_glucose_level']\n",
    "abc['bmi'] = X['bmi']\n",
    "abc.head()"
   ]
  },
  {
   "cell_type": "markdown",
   "id": "0a757a63-7394-4939-aa31-264cc4820373",
   "metadata": {},
   "source": [
    "__Encoding Categorical Data__"
   ]
  },
  {
   "cell_type": "code",
   "execution_count": 27,
   "id": "502601ba-1836-4888-8a27-303611b0d029",
   "metadata": {},
   "outputs": [
    {
     "data": {
      "text/html": [
       "<div>\n",
       "<style scoped>\n",
       "    .dataframe tbody tr th:only-of-type {\n",
       "        vertical-align: middle;\n",
       "    }\n",
       "\n",
       "    .dataframe tbody tr th {\n",
       "        vertical-align: top;\n",
       "    }\n",
       "\n",
       "    .dataframe thead th {\n",
       "        text-align: right;\n",
       "    }\n",
       "</style>\n",
       "<table border=\"1\" class=\"dataframe\">\n",
       "  <thead>\n",
       "    <tr style=\"text-align: right;\">\n",
       "      <th></th>\n",
       "      <th>id</th>\n",
       "      <th>gender</th>\n",
       "      <th>age</th>\n",
       "      <th>hypertension</th>\n",
       "      <th>heart_disease</th>\n",
       "      <th>ever_married</th>\n",
       "      <th>work_type</th>\n",
       "      <th>Residence_type</th>\n",
       "      <th>avg_glucose_level</th>\n",
       "      <th>bmi</th>\n",
       "      <th>smoking_status</th>\n",
       "      <th>stroke</th>\n",
       "    </tr>\n",
       "  </thead>\n",
       "  <tbody>\n",
       "    <tr>\n",
       "      <th>0</th>\n",
       "      <td>9046</td>\n",
       "      <td>Male</td>\n",
       "      <td>1.051434</td>\n",
       "      <td>0</td>\n",
       "      <td>1</td>\n",
       "      <td>Yes</td>\n",
       "      <td>Private</td>\n",
       "      <td>Urban</td>\n",
       "      <td>2.058282</td>\n",
       "      <td>1.110872</td>\n",
       "      <td>formerly smoked</td>\n",
       "      <td>1</td>\n",
       "    </tr>\n",
       "    <tr>\n",
       "      <th>1</th>\n",
       "      <td>51676</td>\n",
       "      <td>Female</td>\n",
       "      <td>0.786070</td>\n",
       "      <td>0</td>\n",
       "      <td>0</td>\n",
       "      <td>Yes</td>\n",
       "      <td>Self-employed</td>\n",
       "      <td>Rural</td>\n",
       "      <td>2.058282</td>\n",
       "      <td>-0.082921</td>\n",
       "      <td>never smoked</td>\n",
       "      <td>1</td>\n",
       "    </tr>\n",
       "    <tr>\n",
       "      <th>2</th>\n",
       "      <td>31112</td>\n",
       "      <td>Male</td>\n",
       "      <td>1.626390</td>\n",
       "      <td>0</td>\n",
       "      <td>1</td>\n",
       "      <td>Yes</td>\n",
       "      <td>Private</td>\n",
       "      <td>Rural</td>\n",
       "      <td>0.148292</td>\n",
       "      <td>0.535043</td>\n",
       "      <td>never smoked</td>\n",
       "      <td>1</td>\n",
       "    </tr>\n",
       "    <tr>\n",
       "      <th>3</th>\n",
       "      <td>60182</td>\n",
       "      <td>Female</td>\n",
       "      <td>0.255342</td>\n",
       "      <td>0</td>\n",
       "      <td>0</td>\n",
       "      <td>Yes</td>\n",
       "      <td>Private</td>\n",
       "      <td>Urban</td>\n",
       "      <td>2.058282</td>\n",
       "      <td>0.801890</td>\n",
       "      <td>smokes</td>\n",
       "      <td>1</td>\n",
       "    </tr>\n",
       "    <tr>\n",
       "      <th>4</th>\n",
       "      <td>1665</td>\n",
       "      <td>Female</td>\n",
       "      <td>1.582163</td>\n",
       "      <td>1</td>\n",
       "      <td>0</td>\n",
       "      <td>Yes</td>\n",
       "      <td>Self-employed</td>\n",
       "      <td>Rural</td>\n",
       "      <td>2.058282</td>\n",
       "      <td>-0.658751</td>\n",
       "      <td>never smoked</td>\n",
       "      <td>1</td>\n",
       "    </tr>\n",
       "  </tbody>\n",
       "</table>\n",
       "</div>"
      ],
      "text/plain": [
       "      id  gender       age  hypertension  heart_disease ever_married  \\\n",
       "0   9046    Male  1.051434             0              1          Yes   \n",
       "1  51676  Female  0.786070             0              0          Yes   \n",
       "2  31112    Male  1.626390             0              1          Yes   \n",
       "3  60182  Female  0.255342             0              0          Yes   \n",
       "4   1665  Female  1.582163             1              0          Yes   \n",
       "\n",
       "       work_type Residence_type  avg_glucose_level       bmi   smoking_status  \\\n",
       "0        Private          Urban           2.058282  1.110872  formerly smoked   \n",
       "1  Self-employed          Rural           2.058282 -0.082921     never smoked   \n",
       "2        Private          Rural           0.148292  0.535043     never smoked   \n",
       "3        Private          Urban           2.058282  0.801890           smokes   \n",
       "4  Self-employed          Rural           2.058282 -0.658751     never smoked   \n",
       "\n",
       "   stroke  \n",
       "0       1  \n",
       "1       1  \n",
       "2       1  \n",
       "3       1  \n",
       "4       1  "
      ]
     },
     "execution_count": 27,
     "metadata": {},
     "output_type": "execute_result"
    }
   ],
   "source": [
    "abc.head()"
   ]
  },
  {
   "cell_type": "markdown",
   "id": "acb4f26f-1e7b-490d-a018-245a05ac05db",
   "metadata": {},
   "source": [
    "We need to encode gender, ever_married, work_type, Residence_type and smoking_status."
   ]
  },
  {
   "cell_type": "markdown",
   "id": "55975e61-7c5c-4f7d-ac84-4a7bbdf87d7c",
   "metadata": {},
   "source": [
    "_Since only 1 is present in other for gender we remove that row_"
   ]
  },
  {
   "cell_type": "code",
   "execution_count": 28,
   "id": "815f4a0a-2f24-4ef8-9436-4d08dcadd040",
   "metadata": {},
   "outputs": [],
   "source": [
    "abc = abc[abc['gender'] != 'Other']"
   ]
  },
  {
   "cell_type": "code",
   "execution_count": 29,
   "id": "ca0044f5-280a-4741-9c0a-defb2f668c8b",
   "metadata": {},
   "outputs": [
    {
     "name": "stderr",
     "output_type": "stream",
     "text": [
      "C:\\Users\\balek\\AppData\\Local\\Temp\\ipykernel_19236\\2127178948.py:1: SettingWithCopyWarning: \n",
      "A value is trying to be set on a copy of a slice from a DataFrame.\n",
      "Try using .loc[row_indexer,col_indexer] = value instead\n",
      "\n",
      "See the caveats in the documentation: https://pandas.pydata.org/pandas-docs/stable/user_guide/indexing.html#returning-a-view-versus-a-copy\n",
      "  abc['gender'] = abc['gender'].replace({'Male':1, 'Female':0})\n"
     ]
    }
   ],
   "source": [
    "abc['gender'] = abc['gender'].replace({'Male':1, 'Female':0})"
   ]
  },
  {
   "cell_type": "code",
   "execution_count": 30,
   "id": "6c824532-b9c0-451d-aed9-39fa628bfe02",
   "metadata": {},
   "outputs": [
    {
     "name": "stdout",
     "output_type": "stream",
     "text": [
      "['Yes' 'No']\n",
      "['Private' 'Self-employed' 'Govt_job' 'children' 'Never_worked']\n",
      "['Urban' 'Rural']\n",
      "['formerly smoked' 'never smoked' 'smokes' 'Unknown']\n"
     ]
    }
   ],
   "source": [
    "print(abc['ever_married'].unique())\n",
    "print(abc['work_type'].unique())\n",
    "print(abc['Residence_type'].unique())\n",
    "print(abc['smoking_status'].unique())"
   ]
  },
  {
   "cell_type": "code",
   "execution_count": 31,
   "id": "c245597d-3d6c-4c4f-b277-97f8da457b8d",
   "metadata": {},
   "outputs": [
    {
     "name": "stderr",
     "output_type": "stream",
     "text": [
      "C:\\Users\\balek\\AppData\\Local\\Temp\\ipykernel_19236\\3236430184.py:1: SettingWithCopyWarning: \n",
      "A value is trying to be set on a copy of a slice from a DataFrame.\n",
      "Try using .loc[row_indexer,col_indexer] = value instead\n",
      "\n",
      "See the caveats in the documentation: https://pandas.pydata.org/pandas-docs/stable/user_guide/indexing.html#returning-a-view-versus-a-copy\n",
      "  abc['ever_married'] = abc['ever_married'].replace({'Yes':1,'No':0})\n",
      "C:\\Users\\balek\\AppData\\Local\\Temp\\ipykernel_19236\\3236430184.py:2: SettingWithCopyWarning: \n",
      "A value is trying to be set on a copy of a slice from a DataFrame.\n",
      "Try using .loc[row_indexer,col_indexer] = value instead\n",
      "\n",
      "See the caveats in the documentation: https://pandas.pydata.org/pandas-docs/stable/user_guide/indexing.html#returning-a-view-versus-a-copy\n",
      "  abc['work_type'] = abc['work_type'].replace({'Never_worked':0,'Self-employed':1,'Govt_job':2,'Private':3, 'children':4})\n",
      "C:\\Users\\balek\\AppData\\Local\\Temp\\ipykernel_19236\\3236430184.py:3: SettingWithCopyWarning: \n",
      "A value is trying to be set on a copy of a slice from a DataFrame.\n",
      "Try using .loc[row_indexer,col_indexer] = value instead\n",
      "\n",
      "See the caveats in the documentation: https://pandas.pydata.org/pandas-docs/stable/user_guide/indexing.html#returning-a-view-versus-a-copy\n",
      "  abc['Residence_type'] = abc['Residence_type'].replace({'Urban':1, 'Rural':0})\n",
      "C:\\Users\\balek\\AppData\\Local\\Temp\\ipykernel_19236\\3236430184.py:4: SettingWithCopyWarning: \n",
      "A value is trying to be set on a copy of a slice from a DataFrame.\n",
      "Try using .loc[row_indexer,col_indexer] = value instead\n",
      "\n",
      "See the caveats in the documentation: https://pandas.pydata.org/pandas-docs/stable/user_guide/indexing.html#returning-a-view-versus-a-copy\n",
      "  abc['smoking_status'] = abc['smoking_status'].replace({'never smoked':0, 'Unknown':1, 'formerly smoked':2, 'smokes':3})\n"
     ]
    },
    {
     "data": {
      "text/html": [
       "<div>\n",
       "<style scoped>\n",
       "    .dataframe tbody tr th:only-of-type {\n",
       "        vertical-align: middle;\n",
       "    }\n",
       "\n",
       "    .dataframe tbody tr th {\n",
       "        vertical-align: top;\n",
       "    }\n",
       "\n",
       "    .dataframe thead th {\n",
       "        text-align: right;\n",
       "    }\n",
       "</style>\n",
       "<table border=\"1\" class=\"dataframe\">\n",
       "  <thead>\n",
       "    <tr style=\"text-align: right;\">\n",
       "      <th></th>\n",
       "      <th>id</th>\n",
       "      <th>gender</th>\n",
       "      <th>age</th>\n",
       "      <th>hypertension</th>\n",
       "      <th>heart_disease</th>\n",
       "      <th>ever_married</th>\n",
       "      <th>work_type</th>\n",
       "      <th>Residence_type</th>\n",
       "      <th>avg_glucose_level</th>\n",
       "      <th>bmi</th>\n",
       "      <th>smoking_status</th>\n",
       "      <th>stroke</th>\n",
       "    </tr>\n",
       "  </thead>\n",
       "  <tbody>\n",
       "    <tr>\n",
       "      <th>0</th>\n",
       "      <td>9046</td>\n",
       "      <td>1</td>\n",
       "      <td>1.051434</td>\n",
       "      <td>0</td>\n",
       "      <td>1</td>\n",
       "      <td>1</td>\n",
       "      <td>3</td>\n",
       "      <td>1</td>\n",
       "      <td>2.058282</td>\n",
       "      <td>1.110872</td>\n",
       "      <td>2</td>\n",
       "      <td>1</td>\n",
       "    </tr>\n",
       "    <tr>\n",
       "      <th>1</th>\n",
       "      <td>51676</td>\n",
       "      <td>0</td>\n",
       "      <td>0.786070</td>\n",
       "      <td>0</td>\n",
       "      <td>0</td>\n",
       "      <td>1</td>\n",
       "      <td>1</td>\n",
       "      <td>0</td>\n",
       "      <td>2.058282</td>\n",
       "      <td>-0.082921</td>\n",
       "      <td>0</td>\n",
       "      <td>1</td>\n",
       "    </tr>\n",
       "    <tr>\n",
       "      <th>2</th>\n",
       "      <td>31112</td>\n",
       "      <td>1</td>\n",
       "      <td>1.626390</td>\n",
       "      <td>0</td>\n",
       "      <td>1</td>\n",
       "      <td>1</td>\n",
       "      <td>3</td>\n",
       "      <td>0</td>\n",
       "      <td>0.148292</td>\n",
       "      <td>0.535043</td>\n",
       "      <td>0</td>\n",
       "      <td>1</td>\n",
       "    </tr>\n",
       "    <tr>\n",
       "      <th>3</th>\n",
       "      <td>60182</td>\n",
       "      <td>0</td>\n",
       "      <td>0.255342</td>\n",
       "      <td>0</td>\n",
       "      <td>0</td>\n",
       "      <td>1</td>\n",
       "      <td>3</td>\n",
       "      <td>1</td>\n",
       "      <td>2.058282</td>\n",
       "      <td>0.801890</td>\n",
       "      <td>3</td>\n",
       "      <td>1</td>\n",
       "    </tr>\n",
       "    <tr>\n",
       "      <th>4</th>\n",
       "      <td>1665</td>\n",
       "      <td>0</td>\n",
       "      <td>1.582163</td>\n",
       "      <td>1</td>\n",
       "      <td>0</td>\n",
       "      <td>1</td>\n",
       "      <td>1</td>\n",
       "      <td>0</td>\n",
       "      <td>2.058282</td>\n",
       "      <td>-0.658751</td>\n",
       "      <td>0</td>\n",
       "      <td>1</td>\n",
       "    </tr>\n",
       "  </tbody>\n",
       "</table>\n",
       "</div>"
      ],
      "text/plain": [
       "      id  gender       age  hypertension  heart_disease  ever_married  \\\n",
       "0   9046       1  1.051434             0              1             1   \n",
       "1  51676       0  0.786070             0              0             1   \n",
       "2  31112       1  1.626390             0              1             1   \n",
       "3  60182       0  0.255342             0              0             1   \n",
       "4   1665       0  1.582163             1              0             1   \n",
       "\n",
       "   work_type  Residence_type  avg_glucose_level       bmi  smoking_status  \\\n",
       "0          3               1           2.058282  1.110872               2   \n",
       "1          1               0           2.058282 -0.082921               0   \n",
       "2          3               0           0.148292  0.535043               0   \n",
       "3          3               1           2.058282  0.801890               3   \n",
       "4          1               0           2.058282 -0.658751               0   \n",
       "\n",
       "   stroke  \n",
       "0       1  \n",
       "1       1  \n",
       "2       1  \n",
       "3       1  \n",
       "4       1  "
      ]
     },
     "execution_count": 31,
     "metadata": {},
     "output_type": "execute_result"
    }
   ],
   "source": [
    "abc['ever_married'] = abc['ever_married'].replace({'Yes':1,'No':0})\n",
    "abc['work_type'] = abc['work_type'].replace({'Never_worked':0,'Self-employed':1,'Govt_job':2,'Private':3, 'children':4})\n",
    "abc['Residence_type'] = abc['Residence_type'].replace({'Urban':1, 'Rural':0})\n",
    "abc['smoking_status'] = abc['smoking_status'].replace({'never smoked':0, 'Unknown':1, 'formerly smoked':2, 'smokes':3})\n",
    "abc.head()"
   ]
  },
  {
   "cell_type": "markdown",
   "id": "162e9afe-c4e2-43f4-be41-7588efbec908",
   "metadata": {},
   "source": [
    "__Generate new features__ -> Used original dataset for this"
   ]
  },
  {
   "cell_type": "markdown",
   "id": "e3a9f56a-a634-4b53-ba81-1240d60685ad",
   "metadata": {},
   "source": [
    "___Age__ is categorized into - 'Young' (0–18 years), 'Early adulthood' (19–45 years), 'Middle adulthood' (46–65 years), 'Later adulthood' (65+ years)   \n",
    "This is done to capture the non-linear correlation between age and stroke risk, aiming to gain deeper insights into the specific patterns of stroke occurrence at different age groups._"
   ]
  },
  {
   "cell_type": "code",
   "execution_count": 32,
   "id": "2a82f4a6-01cb-48fd-a7d7-240b79ee621e",
   "metadata": {},
   "outputs": [
    {
     "data": {
      "text/html": [
       "<div>\n",
       "<style scoped>\n",
       "    .dataframe tbody tr th:only-of-type {\n",
       "        vertical-align: middle;\n",
       "    }\n",
       "\n",
       "    .dataframe tbody tr th {\n",
       "        vertical-align: top;\n",
       "    }\n",
       "\n",
       "    .dataframe thead th {\n",
       "        text-align: right;\n",
       "    }\n",
       "</style>\n",
       "<table border=\"1\" class=\"dataframe\">\n",
       "  <thead>\n",
       "    <tr style=\"text-align: right;\">\n",
       "      <th></th>\n",
       "      <th>id</th>\n",
       "      <th>gender</th>\n",
       "      <th>age</th>\n",
       "      <th>hypertension</th>\n",
       "      <th>heart_disease</th>\n",
       "      <th>ever_married</th>\n",
       "      <th>work_type</th>\n",
       "      <th>Residence_type</th>\n",
       "      <th>avg_glucose_level</th>\n",
       "      <th>bmi</th>\n",
       "      <th>smoking_status</th>\n",
       "      <th>stroke</th>\n",
       "    </tr>\n",
       "  </thead>\n",
       "  <tbody>\n",
       "    <tr>\n",
       "      <th>0</th>\n",
       "      <td>9046</td>\n",
       "      <td>Male</td>\n",
       "      <td>67.0</td>\n",
       "      <td>0</td>\n",
       "      <td>1</td>\n",
       "      <td>Yes</td>\n",
       "      <td>Private</td>\n",
       "      <td>Urban</td>\n",
       "      <td>228.69</td>\n",
       "      <td>36.6</td>\n",
       "      <td>formerly smoked</td>\n",
       "      <td>1</td>\n",
       "    </tr>\n",
       "    <tr>\n",
       "      <th>1</th>\n",
       "      <td>51676</td>\n",
       "      <td>Female</td>\n",
       "      <td>61.0</td>\n",
       "      <td>0</td>\n",
       "      <td>0</td>\n",
       "      <td>Yes</td>\n",
       "      <td>Self-employed</td>\n",
       "      <td>Rural</td>\n",
       "      <td>202.21</td>\n",
       "      <td>NaN</td>\n",
       "      <td>never smoked</td>\n",
       "      <td>1</td>\n",
       "    </tr>\n",
       "    <tr>\n",
       "      <th>2</th>\n",
       "      <td>31112</td>\n",
       "      <td>Male</td>\n",
       "      <td>80.0</td>\n",
       "      <td>0</td>\n",
       "      <td>1</td>\n",
       "      <td>Yes</td>\n",
       "      <td>Private</td>\n",
       "      <td>Rural</td>\n",
       "      <td>105.92</td>\n",
       "      <td>32.5</td>\n",
       "      <td>never smoked</td>\n",
       "      <td>1</td>\n",
       "    </tr>\n",
       "    <tr>\n",
       "      <th>3</th>\n",
       "      <td>60182</td>\n",
       "      <td>Female</td>\n",
       "      <td>49.0</td>\n",
       "      <td>0</td>\n",
       "      <td>0</td>\n",
       "      <td>Yes</td>\n",
       "      <td>Private</td>\n",
       "      <td>Urban</td>\n",
       "      <td>171.23</td>\n",
       "      <td>34.4</td>\n",
       "      <td>smokes</td>\n",
       "      <td>1</td>\n",
       "    </tr>\n",
       "    <tr>\n",
       "      <th>4</th>\n",
       "      <td>1665</td>\n",
       "      <td>Female</td>\n",
       "      <td>79.0</td>\n",
       "      <td>1</td>\n",
       "      <td>0</td>\n",
       "      <td>Yes</td>\n",
       "      <td>Self-employed</td>\n",
       "      <td>Rural</td>\n",
       "      <td>174.12</td>\n",
       "      <td>24.0</td>\n",
       "      <td>never smoked</td>\n",
       "      <td>1</td>\n",
       "    </tr>\n",
       "  </tbody>\n",
       "</table>\n",
       "</div>"
      ],
      "text/plain": [
       "      id  gender   age  hypertension  heart_disease ever_married  \\\n",
       "0   9046    Male  67.0             0              1          Yes   \n",
       "1  51676  Female  61.0             0              0          Yes   \n",
       "2  31112    Male  80.0             0              1          Yes   \n",
       "3  60182  Female  49.0             0              0          Yes   \n",
       "4   1665  Female  79.0             1              0          Yes   \n",
       "\n",
       "       work_type Residence_type  avg_glucose_level   bmi   smoking_status  \\\n",
       "0        Private          Urban             228.69  36.6  formerly smoked   \n",
       "1  Self-employed          Rural             202.21   NaN     never smoked   \n",
       "2        Private          Rural             105.92  32.5     never smoked   \n",
       "3        Private          Urban             171.23  34.4           smokes   \n",
       "4  Self-employed          Rural             174.12  24.0     never smoked   \n",
       "\n",
       "   stroke  \n",
       "0       1  \n",
       "1       1  \n",
       "2       1  \n",
       "3       1  \n",
       "4       1  "
      ]
     },
     "execution_count": 32,
     "metadata": {},
     "output_type": "execute_result"
    }
   ],
   "source": [
    "new_df.head()"
   ]
  },
  {
   "cell_type": "code",
   "execution_count": 33,
   "id": "a9a7cd33-46ed-48a9-81d8-2f7e7511c7c0",
   "metadata": {},
   "outputs": [
    {
     "data": {
      "text/html": [
       "<div>\n",
       "<style scoped>\n",
       "    .dataframe tbody tr th:only-of-type {\n",
       "        vertical-align: middle;\n",
       "    }\n",
       "\n",
       "    .dataframe tbody tr th {\n",
       "        vertical-align: top;\n",
       "    }\n",
       "\n",
       "    .dataframe thead th {\n",
       "        text-align: right;\n",
       "    }\n",
       "</style>\n",
       "<table border=\"1\" class=\"dataframe\">\n",
       "  <thead>\n",
       "    <tr style=\"text-align: right;\">\n",
       "      <th></th>\n",
       "      <th>id</th>\n",
       "      <th>gender</th>\n",
       "      <th>age</th>\n",
       "      <th>hypertension</th>\n",
       "      <th>heart_disease</th>\n",
       "      <th>ever_married</th>\n",
       "      <th>work_type</th>\n",
       "      <th>Residence_type</th>\n",
       "      <th>avg_glucose_level</th>\n",
       "      <th>bmi</th>\n",
       "      <th>smoking_status</th>\n",
       "      <th>stroke</th>\n",
       "      <th>age_class</th>\n",
       "    </tr>\n",
       "  </thead>\n",
       "  <tbody>\n",
       "    <tr>\n",
       "      <th>0</th>\n",
       "      <td>9046</td>\n",
       "      <td>Male</td>\n",
       "      <td>67.0</td>\n",
       "      <td>0</td>\n",
       "      <td>1</td>\n",
       "      <td>Yes</td>\n",
       "      <td>Private</td>\n",
       "      <td>Urban</td>\n",
       "      <td>228.69</td>\n",
       "      <td>36.6</td>\n",
       "      <td>formerly smoked</td>\n",
       "      <td>1</td>\n",
       "      <td>Late adulthood</td>\n",
       "    </tr>\n",
       "    <tr>\n",
       "      <th>1</th>\n",
       "      <td>51676</td>\n",
       "      <td>Female</td>\n",
       "      <td>61.0</td>\n",
       "      <td>0</td>\n",
       "      <td>0</td>\n",
       "      <td>Yes</td>\n",
       "      <td>Self-employed</td>\n",
       "      <td>Rural</td>\n",
       "      <td>202.21</td>\n",
       "      <td>NaN</td>\n",
       "      <td>never smoked</td>\n",
       "      <td>1</td>\n",
       "      <td>Middle adulthood</td>\n",
       "    </tr>\n",
       "    <tr>\n",
       "      <th>2</th>\n",
       "      <td>31112</td>\n",
       "      <td>Male</td>\n",
       "      <td>80.0</td>\n",
       "      <td>0</td>\n",
       "      <td>1</td>\n",
       "      <td>Yes</td>\n",
       "      <td>Private</td>\n",
       "      <td>Rural</td>\n",
       "      <td>105.92</td>\n",
       "      <td>32.5</td>\n",
       "      <td>never smoked</td>\n",
       "      <td>1</td>\n",
       "      <td>Late adulthood</td>\n",
       "    </tr>\n",
       "    <tr>\n",
       "      <th>3</th>\n",
       "      <td>60182</td>\n",
       "      <td>Female</td>\n",
       "      <td>49.0</td>\n",
       "      <td>0</td>\n",
       "      <td>0</td>\n",
       "      <td>Yes</td>\n",
       "      <td>Private</td>\n",
       "      <td>Urban</td>\n",
       "      <td>171.23</td>\n",
       "      <td>34.4</td>\n",
       "      <td>smokes</td>\n",
       "      <td>1</td>\n",
       "      <td>Middle adulthood</td>\n",
       "    </tr>\n",
       "    <tr>\n",
       "      <th>4</th>\n",
       "      <td>1665</td>\n",
       "      <td>Female</td>\n",
       "      <td>79.0</td>\n",
       "      <td>1</td>\n",
       "      <td>0</td>\n",
       "      <td>Yes</td>\n",
       "      <td>Self-employed</td>\n",
       "      <td>Rural</td>\n",
       "      <td>174.12</td>\n",
       "      <td>24.0</td>\n",
       "      <td>never smoked</td>\n",
       "      <td>1</td>\n",
       "      <td>Late adulthood</td>\n",
       "    </tr>\n",
       "  </tbody>\n",
       "</table>\n",
       "</div>"
      ],
      "text/plain": [
       "      id  gender   age  hypertension  heart_disease ever_married  \\\n",
       "0   9046    Male  67.0             0              1          Yes   \n",
       "1  51676  Female  61.0             0              0          Yes   \n",
       "2  31112    Male  80.0             0              1          Yes   \n",
       "3  60182  Female  49.0             0              0          Yes   \n",
       "4   1665  Female  79.0             1              0          Yes   \n",
       "\n",
       "       work_type Residence_type  avg_glucose_level   bmi   smoking_status  \\\n",
       "0        Private          Urban             228.69  36.6  formerly smoked   \n",
       "1  Self-employed          Rural             202.21   NaN     never smoked   \n",
       "2        Private          Rural             105.92  32.5     never smoked   \n",
       "3        Private          Urban             171.23  34.4           smokes   \n",
       "4  Self-employed          Rural             174.12  24.0     never smoked   \n",
       "\n",
       "   stroke         age_class  \n",
       "0       1    Late adulthood  \n",
       "1       1  Middle adulthood  \n",
       "2       1    Late adulthood  \n",
       "3       1  Middle adulthood  \n",
       "4       1    Late adulthood  "
      ]
     },
     "execution_count": 33,
     "metadata": {},
     "output_type": "execute_result"
    }
   ],
   "source": [
    "def age_class(age):\n",
    "    if age <= 18:\n",
    "        return 'Young'\n",
    "    elif 18 < age <= 45 :\n",
    "        return 'Early adulthood'\n",
    "    elif 45 < age <= 65 :\n",
    "        return 'Middle adulthood'\n",
    "    else:\n",
    "        return 'Late adulthood'\n",
    "\n",
    "new_df['age_class'] = new_df['age'].apply(age_class)\n",
    "new_df.head()\n"
   ]
  },
  {
   "cell_type": "markdown",
   "id": "904b0874-46e0-4ea7-a192-100b0f1d76ab",
   "metadata": {},
   "source": [
    "___Glucose Level__ is categorized into - 'Normal' ( < 140), ' Impaired Glucose Tolerance' (140-200 ), 'Provisional Diabetes' (200 > )_\n",
    "This is according to a report by Science Direct"
   ]
  },
  {
   "cell_type": "code",
   "execution_count": 34,
   "id": "08debf9a-2f29-4c8b-8b32-a07d70ddd39f",
   "metadata": {},
   "outputs": [
    {
     "data": {
      "text/html": [
       "<div>\n",
       "<style scoped>\n",
       "    .dataframe tbody tr th:only-of-type {\n",
       "        vertical-align: middle;\n",
       "    }\n",
       "\n",
       "    .dataframe tbody tr th {\n",
       "        vertical-align: top;\n",
       "    }\n",
       "\n",
       "    .dataframe thead th {\n",
       "        text-align: right;\n",
       "    }\n",
       "</style>\n",
       "<table border=\"1\" class=\"dataframe\">\n",
       "  <thead>\n",
       "    <tr style=\"text-align: right;\">\n",
       "      <th></th>\n",
       "      <th>id</th>\n",
       "      <th>gender</th>\n",
       "      <th>age</th>\n",
       "      <th>hypertension</th>\n",
       "      <th>heart_disease</th>\n",
       "      <th>ever_married</th>\n",
       "      <th>work_type</th>\n",
       "      <th>Residence_type</th>\n",
       "      <th>avg_glucose_level</th>\n",
       "      <th>bmi</th>\n",
       "      <th>smoking_status</th>\n",
       "      <th>stroke</th>\n",
       "      <th>age_class</th>\n",
       "      <th>glucose_class</th>\n",
       "    </tr>\n",
       "  </thead>\n",
       "  <tbody>\n",
       "    <tr>\n",
       "      <th>0</th>\n",
       "      <td>9046</td>\n",
       "      <td>Male</td>\n",
       "      <td>67.0</td>\n",
       "      <td>0</td>\n",
       "      <td>1</td>\n",
       "      <td>Yes</td>\n",
       "      <td>Private</td>\n",
       "      <td>Urban</td>\n",
       "      <td>228.69</td>\n",
       "      <td>36.6</td>\n",
       "      <td>formerly smoked</td>\n",
       "      <td>1</td>\n",
       "      <td>Late adulthood</td>\n",
       "      <td>Provisional Diabetes</td>\n",
       "    </tr>\n",
       "    <tr>\n",
       "      <th>1</th>\n",
       "      <td>51676</td>\n",
       "      <td>Female</td>\n",
       "      <td>61.0</td>\n",
       "      <td>0</td>\n",
       "      <td>0</td>\n",
       "      <td>Yes</td>\n",
       "      <td>Self-employed</td>\n",
       "      <td>Rural</td>\n",
       "      <td>202.21</td>\n",
       "      <td>NaN</td>\n",
       "      <td>never smoked</td>\n",
       "      <td>1</td>\n",
       "      <td>Middle adulthood</td>\n",
       "      <td>Provisional Diabetes</td>\n",
       "    </tr>\n",
       "    <tr>\n",
       "      <th>2</th>\n",
       "      <td>31112</td>\n",
       "      <td>Male</td>\n",
       "      <td>80.0</td>\n",
       "      <td>0</td>\n",
       "      <td>1</td>\n",
       "      <td>Yes</td>\n",
       "      <td>Private</td>\n",
       "      <td>Rural</td>\n",
       "      <td>105.92</td>\n",
       "      <td>32.5</td>\n",
       "      <td>never smoked</td>\n",
       "      <td>1</td>\n",
       "      <td>Late adulthood</td>\n",
       "      <td>Normal</td>\n",
       "    </tr>\n",
       "    <tr>\n",
       "      <th>3</th>\n",
       "      <td>60182</td>\n",
       "      <td>Female</td>\n",
       "      <td>49.0</td>\n",
       "      <td>0</td>\n",
       "      <td>0</td>\n",
       "      <td>Yes</td>\n",
       "      <td>Private</td>\n",
       "      <td>Urban</td>\n",
       "      <td>171.23</td>\n",
       "      <td>34.4</td>\n",
       "      <td>smokes</td>\n",
       "      <td>1</td>\n",
       "      <td>Middle adulthood</td>\n",
       "      <td>IGT</td>\n",
       "    </tr>\n",
       "    <tr>\n",
       "      <th>4</th>\n",
       "      <td>1665</td>\n",
       "      <td>Female</td>\n",
       "      <td>79.0</td>\n",
       "      <td>1</td>\n",
       "      <td>0</td>\n",
       "      <td>Yes</td>\n",
       "      <td>Self-employed</td>\n",
       "      <td>Rural</td>\n",
       "      <td>174.12</td>\n",
       "      <td>24.0</td>\n",
       "      <td>never smoked</td>\n",
       "      <td>1</td>\n",
       "      <td>Late adulthood</td>\n",
       "      <td>IGT</td>\n",
       "    </tr>\n",
       "  </tbody>\n",
       "</table>\n",
       "</div>"
      ],
      "text/plain": [
       "      id  gender   age  hypertension  heart_disease ever_married  \\\n",
       "0   9046    Male  67.0             0              1          Yes   \n",
       "1  51676  Female  61.0             0              0          Yes   \n",
       "2  31112    Male  80.0             0              1          Yes   \n",
       "3  60182  Female  49.0             0              0          Yes   \n",
       "4   1665  Female  79.0             1              0          Yes   \n",
       "\n",
       "       work_type Residence_type  avg_glucose_level   bmi   smoking_status  \\\n",
       "0        Private          Urban             228.69  36.6  formerly smoked   \n",
       "1  Self-employed          Rural             202.21   NaN     never smoked   \n",
       "2        Private          Rural             105.92  32.5     never smoked   \n",
       "3        Private          Urban             171.23  34.4           smokes   \n",
       "4  Self-employed          Rural             174.12  24.0     never smoked   \n",
       "\n",
       "   stroke         age_class         glucose_class  \n",
       "0       1    Late adulthood  Provisional Diabetes  \n",
       "1       1  Middle adulthood  Provisional Diabetes  \n",
       "2       1    Late adulthood                Normal  \n",
       "3       1  Middle adulthood                   IGT  \n",
       "4       1    Late adulthood                   IGT  "
      ]
     },
     "execution_count": 34,
     "metadata": {},
     "output_type": "execute_result"
    }
   ],
   "source": [
    "def glucose_class(gl_lvl):\n",
    "    if gl_lvl <= 140:\n",
    "        return 'Normal'\n",
    "    elif 140 < gl_lvl <= 200 :\n",
    "        return 'IGT'\n",
    "    else:\n",
    "        return 'Provisional Diabetes'\n",
    "\n",
    "new_df['glucose_class'] = new_df['avg_glucose_level'].apply(glucose_class)\n",
    "new_df.head()"
   ]
  },
  {
   "cell_type": "code",
   "execution_count": null,
   "id": "0fee844f-2e96-4ecb-8902-6aae8862f714",
   "metadata": {},
   "outputs": [],
   "source": []
  }
 ],
 "metadata": {
  "kernelspec": {
   "display_name": "Python 3 (ipykernel)",
   "language": "python",
   "name": "python3"
  },
  "language_info": {
   "codemirror_mode": {
    "name": "ipython",
    "version": 3
   },
   "file_extension": ".py",
   "mimetype": "text/x-python",
   "name": "python",
   "nbconvert_exporter": "python",
   "pygments_lexer": "ipython3",
   "version": "3.11.3"
  }
 },
 "nbformat": 4,
 "nbformat_minor": 5
}
